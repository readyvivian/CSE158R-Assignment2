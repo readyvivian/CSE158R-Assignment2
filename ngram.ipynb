{
 "cells": [
  {
   "cell_type": "code",
   "execution_count": 2,
   "metadata": {},
   "outputs": [],
   "source": [
    "import json\n",
    "import matplotlib.pyplot as plt\n",
    "from collections import Counter\n",
    "import statistics\n",
    "from datetime import datetime\n",
    "from collections import defaultdict\n",
    "from sklearn.feature_extraction.text import CountVectorizer\n",
    "import re\n",
    "import string\n",
    "\n",
    "import torch\n",
    "from torch import nn\n",
    "import torch.nn.functional as F\n",
    "from sklearn.feature_extraction.text import CountVectorizer\n",
    "\n",
    "from collections import Counter\n",
    "\n",
    "\n",
    "from sklearn.model_selection import train_test_split\n",
    "\n",
    "from nltk.corpus import stopwords\n",
    "from nltk.stem import WordNetLemmatizer\n",
    "import nltk"
   ]
  },
  {
   "cell_type": "code",
   "execution_count": 3,
   "metadata": {},
   "outputs": [],
   "source": [
    "review_train = []\n",
    "with open(\"../dataset/review_train.json\", \"r\") as file:\n",
    "    for line in file:\n",
    "        review_train.append(json.loads(line))\n",
    "\n",
    "review_test = []\n",
    "with open(\"../dataset/review_test.json\", \"r\") as file:\n",
    "    for line in file:\n",
    "        review_test.append(json.loads(line))"
   ]
  },
  {
   "cell_type": "code",
   "execution_count": 4,
   "metadata": {},
   "outputs": [
    {
     "data": {
      "text/plain": [
       "{'votes': {'funny': 0, 'useful': 1, 'cool': 0},\n",
       " 'user_id': 'qVlXke5-Qm9Xr0SBcBTTnA',\n",
       " 'review_id': 'K80HPQBnSg7alK7R7tIs3A',\n",
       " 'stars': 1,\n",
       " 'date': '2012-07-02',\n",
       " 'text': 'Terrible place to shop!!! The manager is an expletive i cannot say on here. I went and bought several nails and screws as well as a rug and other items. While i was checking out the cashier charged me incorrectly for some of the screws, actually charged me more than what they were so i told the cashier and she corrected her mistake. While shopping i was there for about an hour because i was looking at paint, i even talked to a guy while i was there about different paint options as well as another lady about drill bits and about my cat condo project. anyway after i left i realize after i got home the cashier had also forgotten to give me a receipt. the rug i purchased did not work where i wanted it so i attempted to return it about 1 week after i purchased it, i went back the following weekend and the manager refused. i have never heard of refusing to return something or even give a store credit. im not one to return stuff so i was completely shocked. when i put up a stink with the manager she absolutely rude. i will never go there and the reason is that this location along with several others are individually owned and because of this they can make up whatever policies they want. so back to Hd or Lowes i go. never again!!',\n",
       " 'type': 'review',\n",
       " 'business_id': '-PisznY2s13FyX3tASY4aA'}"
      ]
     },
     "execution_count": 4,
     "metadata": {},
     "output_type": "execute_result"
    }
   ],
   "source": [
    "review_train[0]\n",
    "# len(review_train)"
   ]
  },
  {
   "cell_type": "code",
   "execution_count": 35,
   "metadata": {},
   "outputs": [
    {
     "name": "stdout",
     "output_type": "stream",
     "text": [
      "Collecting vaderSentiment\n",
      "  Downloading vaderSentiment-3.3.2-py2.py3-none-any.whl.metadata (572 bytes)\n",
      "Requirement already satisfied: requests in /Users/lelezhao/anaconda3/lib/python3.11/site-packages (from vaderSentiment) (2.31.0)\n",
      "Requirement already satisfied: charset-normalizer<4,>=2 in /Users/lelezhao/anaconda3/lib/python3.11/site-packages (from requests->vaderSentiment) (2.0.4)\n",
      "Requirement already satisfied: idna<4,>=2.5 in /Users/lelezhao/anaconda3/lib/python3.11/site-packages (from requests->vaderSentiment) (3.4)\n",
      "Requirement already satisfied: urllib3<3,>=1.21.1 in /Users/lelezhao/anaconda3/lib/python3.11/site-packages (from requests->vaderSentiment) (2.0.7)\n",
      "Requirement already satisfied: certifi>=2017.4.17 in /Users/lelezhao/anaconda3/lib/python3.11/site-packages (from requests->vaderSentiment) (2024.2.2)\n",
      "Downloading vaderSentiment-3.3.2-py2.py3-none-any.whl (125 kB)\n",
      "\u001b[2K   \u001b[90m━━━━━━━━━━━━━━━━━━━━━━━━━━━━━━━━━━━━━━━━\u001b[0m \u001b[32m126.0/126.0 kB\u001b[0m \u001b[31m2.1 MB/s\u001b[0m eta \u001b[36m0:00:00\u001b[0m \u001b[36m0:00:01\u001b[0m\n",
      "\u001b[?25hInstalling collected packages: vaderSentiment\n",
      "Successfully installed vaderSentiment-3.3.2\n"
     ]
    }
   ],
   "source": [
    "!pip install vaderSentiment\n"
   ]
  },
  {
   "cell_type": "code",
   "execution_count": 42,
   "metadata": {},
   "outputs": [
    {
     "name": "stdout",
     "output_type": "stream",
     "text": [
      "Number of negative words: 4169\n"
     ]
    }
   ],
   "source": [
    "from vaderSentiment.vaderSentiment import SentimentIntensityAnalyzer\n",
    "\n",
    "# Initialize VADER sentiment analyzer\n",
    "analyzer = SentimentIntensityAnalyzer()\n",
    "\n",
    "# Access the lexicon dictionary\n",
    "vader_lexicon = analyzer.lexicon\n",
    "\n",
    "# Extract negative words (words with negative sentiment scores)\n",
    "negative_words = [word for word, score in vader_lexicon.items() if score < 0]\n",
    "negative_words_set = set(negative_words)\n",
    "print(f\"Number of negative words: {len(negative_words_set)}\")\n"
   ]
  },
  {
   "cell_type": "code",
   "execution_count": 40,
   "metadata": {},
   "outputs": [],
   "source": [
    "def process_sequence(datum):\n",
    "    sp = set(string.punctuation)\n",
    "    r = ''.join([c for c in datum['text'].lower() if c not in sp])\n",
    "    return r.split()"
   ]
  },
  {
   "cell_type": "code",
   "execution_count": 51,
   "metadata": {},
   "outputs": [
    {
     "name": "stdout",
     "output_type": "stream",
     "text": [
      "Avg ratings containing negative words: 3.578265227810234\n"
     ]
    }
   ],
   "source": [
    "\n",
    "def contains_negative_words(tokens, negative_words_set):\n",
    "    return any(word in negative_words_set for word in tokens)\n",
    "\n",
    "# Exploratory data\n",
    "# Get some bad words and see their avg rating\n",
    "bad = []  # Store ratings of entries containing negative words\n",
    "seqs = []  # Store processed sequences\n",
    "\n",
    "for d in review_train:\n",
    "    # Process the text into a list of tokens\n",
    "    seqs.append(process_sequence(d))\n",
    "\n",
    "# Check for negative words in each entry\n",
    "for i, (entry, review_data) in enumerate(zip(seqs, review_train)):\n",
    "    has_negative_words = contains_negative_words(entry, negative_words_set)\n",
    "    if has_negative_words:\n",
    "        # Append the rating for reviews containing negative words\n",
    "        bad.append(review_data['stars'])  # Assuming `review_data['stars']` contains the rating\n",
    "\n",
    "if bad:\n",
    "    avg_rating = sum(bad) / len(bad)\n",
    "    print(f\"Avg ratings containing negative words: {avg_rating}\")\n",
    "else:\n",
    "    print(\"No reviews with negative words found.\")\n"
   ]
  },
  {
   "cell_type": "code",
   "execution_count": 45,
   "metadata": {},
   "outputs": [
    {
     "name": "stdout",
     "output_type": "stream",
     "text": [
      "Requirement already satisfied: nltk in /Users/lelezhao/anaconda3/lib/python3.11/site-packages (3.8.1)\n",
      "Requirement already satisfied: click in /Users/lelezhao/anaconda3/lib/python3.11/site-packages (from nltk) (8.1.7)\n",
      "Requirement already satisfied: joblib in /Users/lelezhao/anaconda3/lib/python3.11/site-packages (from nltk) (1.2.0)\n",
      "Requirement already satisfied: regex>=2021.8.3 in /Users/lelezhao/anaconda3/lib/python3.11/site-packages (from nltk) (2023.10.3)\n",
      "Requirement already satisfied: tqdm in /Users/lelezhao/anaconda3/lib/python3.11/site-packages (from nltk) (4.65.0)\n"
     ]
    }
   ],
   "source": [
    "!pip install nltk\n"
   ]
  },
  {
   "cell_type": "code",
   "execution_count": 46,
   "metadata": {},
   "outputs": [
    {
     "name": "stderr",
     "output_type": "stream",
     "text": [
      "[nltk_data] Downloading package opinion_lexicon to\n",
      "[nltk_data]     /Users/lelezhao/nltk_data...\n",
      "[nltk_data]   Unzipping corpora/opinion_lexicon.zip.\n"
     ]
    },
    {
     "data": {
      "text/plain": [
       "True"
      ]
     },
     "execution_count": 46,
     "metadata": {},
     "output_type": "execute_result"
    }
   ],
   "source": [
    "import nltk\n",
    "nltk.download('opinion_lexicon')\n",
    "\n"
   ]
  },
  {
   "cell_type": "code",
   "execution_count": 50,
   "metadata": {},
   "outputs": [
    {
     "name": "stdout",
     "output_type": "stream",
     "text": [
      "Avg ratings containing positive words: 3.7981473105851213\n"
     ]
    }
   ],
   "source": [
    "from nltk.corpus import opinion_lexicon\n",
    "import string\n",
    "\n",
    "# Load positive words from NLTK opinion lexicon\n",
    "positive_words_set = set(opinion_lexicon.positive())\n",
    "\n",
    "# Function to check if any token is a positive word\n",
    "def contains_positive_words(tokens, positive_words_set):\n",
    "    \"\"\"\n",
    "    Checks if any token in the list of tokens is in the positive words set.\n",
    "    Args:\n",
    "        tokens (list): A list of words (tokens).\n",
    "        positive_words_set (set): A set of positive words.\n",
    "    Returns:\n",
    "        bool: True if any token is found in the positive words set, False otherwise.\n",
    "    \"\"\"\n",
    "    return any(word in positive_words_set for word in tokens)\n",
    "\n",
    "# Exploratory data: Get average ratings for reviews with positive words\n",
    "good_ratings = []  # Store ratings for reviews with positive words\n",
    "seqs = []  # Store processed sequences\n",
    "\n",
    "# Assuming `review_train` is your dataset\n",
    "for d in review_train:\n",
    "    # Process the text into a list of tokens\n",
    "    seqs.append(process_sequence(d))\n",
    "\n",
    "# Check for positive words in each entry\n",
    "for i, (entry, review_data) in enumerate(zip(seqs, review_train)):\n",
    "    has_positive_words = contains_positive_words(entry, positive_words_set)\n",
    "    if has_positive_words:\n",
    "        # Append the rating for reviews containing positive words\n",
    "        good_ratings.append(review_data['stars'])  # Assuming `review_data['stars']` contains the rating\n",
    "\n",
    "# Calculate and print average rating for reviews with positive words\n",
    "if good_ratings:\n",
    "    avg_rating = sum(good_ratings) / len(good_ratings)\n",
    "    print(f\"Avg ratings containing positive words: {avg_rating}\")\n",
    "else:\n",
    "    print(\"No reviews with positive words found.\")\n"
   ]
  },
  {
   "cell_type": "code",
   "execution_count": 49,
   "metadata": {},
   "outputs": [
    {
     "name": "stdout",
     "output_type": "stream",
     "text": [
      "avg of the whole training set:  3.7660405056408863\n"
     ]
    }
   ],
   "source": [
    "# calculate avg of stars in the training set\n",
    "ratings = [d['stars'] for d in review_train]\n",
    "print(\"avg of the whole training set: \", sum(ratings)/len(ratings))"
   ]
  },
  {
   "cell_type": "code",
   "execution_count": 5,
   "metadata": {},
   "outputs": [
    {
     "name": "stdout",
     "output_type": "stream",
     "text": [
      "110355\n",
      "73570\n"
     ]
    }
   ],
   "source": [
    "#spliting data \n",
    "train_data = []\n",
    "N = 110355\n",
    "for d in review_train[:N]:\n",
    "    train_data.append(d)\n",
    "print(len(train_data))\n",
    "valid_data = []\n",
    "for d in review_train[N:]:\n",
    "    valid_data.append(d)\n",
    "print(len(valid_data))"
   ]
  },
  {
   "cell_type": "code",
   "execution_count": null,
   "metadata": {},
   "outputs": [],
   "source": []
  },
  {
   "cell_type": "code",
   "execution_count": 6,
   "metadata": {},
   "outputs": [],
   "source": [
    "def process_sequence(datum):\n",
    "    seq = []\n",
    "    sp = set(string.punctuation)\n",
    "    # wordCount=defaultdict(int)\n",
    "    r = ''.join([c for c in datum['text'].lower() if not c in sp])\n",
    "    seq = r.split()\n",
    "    return seq \n",
    "    # print(r)\n",
    "    # for w in r.split():\n",
    "    #     wordCountTrain[w] += 1"
   ]
  },
  {
   "cell_type": "code",
   "execution_count": 7,
   "metadata": {},
   "outputs": [
    {
     "data": {
      "text/plain": [
       "183925"
      ]
     },
     "execution_count": 7,
     "metadata": {},
     "output_type": "execute_result"
    }
   ],
   "source": [
    "sequences_train = []\n",
    "for d in review_train:\n",
    "    sequences_train.append(process_sequence(d))\n",
    "    # print(process_sequence(d))\n",
    "ratings_train =[]\n",
    "for d in review_train:\n",
    "    ratings_train.append(d['stars'])\n",
    "    # print(d['stars'])\n",
    "len(sequences_train)\n",
    "\n"
   ]
  },
  {
   "cell_type": "code",
   "execution_count": 61,
   "metadata": {},
   "outputs": [],
   "source": [
    "import numpy as np\n",
    "from collections import defaultdict, Counter\n",
    "from sklearn.linear_model import Ridge\n",
    "from sklearn.model_selection import train_test_split\n",
    "from sklearn.metrics import mean_squared_error\n",
    "import string\n",
    "from scipy.sparse import lil_matrix\n",
    "\n",
    "\n",
    "class NGramRatingModel:\n",
    "    def __init__(self, n, alpha=1.0):\n",
    "        self.n = n\n",
    "        self.alpha = alpha\n",
    "        self.ngrams = defaultdict(list)\n",
    "        self.context_counts = Counter()\n",
    "        self.regressor = Ridge(alpha=self.alpha)\n",
    "        self.ngram_to_idx = None\n",
    "\n",
    "    def train(self, sequences, ratings):\n",
    "        for seq, rating in zip(sequences, ratings):\n",
    "            seq = ['<s>'] * (self.n - 1) + seq + ['</s>']\n",
    "            for i in range(len(seq) - self.n + 1):\n",
    "                ngram = tuple(seq[i:i + self.n])\n",
    "                self.ngrams[ngram].append(rating)\n",
    "                self.context_counts[ngram[:-1]] += 1\n",
    "        # self.ngrams = {ngram: ratings for ngram, ratings in self.ngrams.items() if len(ratings) > 1}\n",
    "        self.ngram_to_idx = {ngram: idx for idx, ngram in enumerate(self.ngrams.keys())}\n",
    "        features, targets = self._extract_features_and_targets(sequences, ratings)\n",
    "        self.regressor.fit(features, targets)\n",
    "\n",
    "    def _extract_features_and_targets(self, sequences, ratings):\n",
    "        feature_matrix = lil_matrix((len(sequences), len(self.ngrams)), dtype=np.float32)\n",
    "        for i, seq in enumerate(sequences):\n",
    "            feature_vector = self._extract_features(seq)\n",
    "            feature_matrix[i, :] = feature_vector\n",
    "        return feature_matrix.tocsr(), np.array(ratings, dtype=np.float32)\n",
    "\n",
    "    def _extract_features(self, sequence):\n",
    "        sequence = ['<s>'] * (self.n - 1) + sequence + ['</s>']\n",
    "        feature_vector = np.zeros(len(self.ngrams), dtype=np.float32)\n",
    "        for i in range(len(sequence) - self.n + 1):\n",
    "            ngram = tuple(sequence[i:i + self.n])\n",
    "            if ngram in self.ngram_to_idx:\n",
    "                idx = self.ngram_to_idx[ngram]\n",
    "                feature_vector[idx] += 1\n",
    "        return feature_vector\n",
    "\n",
    "    def evaluate(self, sequences, ratings):\n",
    "        features, targets = self._extract_features_and_targets(sequences, ratings)\n",
    "        # predictions = self.regressor.predict(features)\n",
    "        predictions = np.round(np.clip(self.regressor.predict(features), 1, 5))\n",
    "\n",
    "        print(predictions)\n",
    "        mse = mean_squared_error(targets, predictions)\n",
    "        return mse\n",
    "\n",
    "\n",
    "def process_sequence(datum):\n",
    "    sp = set(string.punctuation)\n",
    "    r = ''.join([c for c in datum['text'].lower() if c not in sp])\n",
    "    return r.split()\n",
    "\n",
    "\n",
    "\n"
   ]
  },
  {
   "cell_type": "code",
   "execution_count": 9,
   "metadata": {},
   "outputs": [],
   "source": [
    "# N = len(review_train)\n",
    "# # Preprocessing\n",
    "# train_sequences = [process_sequence(d) for d in review_train[:10000]]\n",
    "# train_ratings = [d['stars'] for d in review_train[:10000]]\n",
    "\n",
    "# val_sequences = [process_sequence(d) for d in review_train[40000:41999]]\n",
    "# val_ratings = [d['stars'] for d in review_train[40000:41999]]\n",
    "\n",
    "\n"
   ]
  },
  {
   "cell_type": "code",
   "execution_count": 24,
   "metadata": {},
   "outputs": [],
   "source": [
    "import random\n",
    "\n",
    "sample_size = 20000  # Adjust based on your computational capacity\n",
    "random.seed(42)  # For reproducibility\n",
    "sampled_data = random.sample(review_train, sample_size)\n",
    "\n",
    "sequences = [process_sequence(d) for d in sampled_data]\n",
    "ratings = [d['stars'] for d in sampled_data]\n",
    "\n",
    "# Split into training and validation sets\n",
    "train_sequences, val_sequences, train_ratings, val_ratings = train_test_split(\n",
    "    sequences, ratings, test_size=0.2, random_state=42)"
   ]
  },
  {
   "cell_type": "code",
   "execution_count": 27,
   "metadata": {},
   "outputs": [
    {
     "data": {
      "text/plain": [
       "4000"
      ]
     },
     "execution_count": 27,
     "metadata": {},
     "output_type": "execute_result"
    }
   ],
   "source": [
    "len(train_sequences)\n",
    "len(val_sequences)"
   ]
  },
  {
   "cell_type": "code",
   "execution_count": 64,
   "metadata": {},
   "outputs": [
    {
     "name": "stdout",
     "output_type": "stream",
     "text": [
      "[5. 4. 3. ... 4. 5. 2.]\n",
      "Validation MSE: 1.2415\n"
     ]
    }
   ],
   "source": [
    "# unigram DON'T WORK TOO WELL\n",
    "\n",
    "# Train and Evaluate\n",
    "unigram_model = NGramRatingModel(n=1, alpha=1.0)\n",
    "unigram_model.train(train_sequences, train_ratings)\n",
    "\n",
    "# Validation and Test\n",
    "val_mse = unigram_model.evaluate(val_sequences, val_ratings)\n",
    "\n",
    "print(f\"Validation MSE: {val_mse:.4f}\")"
   ]
  },
  {
   "cell_type": "code",
   "execution_count": 65,
   "metadata": {},
   "outputs": [
    {
     "name": "stdout",
     "output_type": "stream",
     "text": [
      "[4. 5. 3. ... 5. 5. 2.]\n",
      "Test MSE: 1.2913\n"
     ]
    }
   ],
   "source": [
    "test_sequence = [process_sequence(d) for d in review_test]\n",
    "test_rating = [d['stars'] for d in review_test]\n",
    "\n",
    "test_mse = unigram_model.evaluate(test_sequence,test_rating)\n",
    "print(f\"Test MSE: {test_mse:.4f}\")"
   ]
  },
  {
   "cell_type": "code",
   "execution_count": 62,
   "metadata": {},
   "outputs": [
    {
     "name": "stdout",
     "output_type": "stream",
     "text": [
      "[5. 3. 3. ... 4. 4. 2.]\n",
      "Validation MSE: 0.9775\n"
     ]
    }
   ],
   "source": [
    "#bigram\n",
    "# Train and Evaluate\n",
    "ngram_model = NGramRatingModel(n=2, alpha=0.5)\n",
    "ngram_model.train(train_sequences, train_ratings)\n",
    "\n",
    "# # Train Ridge Regressor\n",
    "# features, targets = ngram_model._extract_features_and_targets(train_sequences, train_ratings)\n",
    "# ngram_model.regressor.fit(features, targets)\n",
    "\n",
    "# Validation and Test\n",
    "val_mse = ngram_model.evaluate(val_sequences, val_ratings)\n",
    "\n",
    "print(f\"Validation MSE: {val_mse:.4f}\")"
   ]
  },
  {
   "cell_type": "code",
   "execution_count": 63,
   "metadata": {},
   "outputs": [
    {
     "name": "stdout",
     "output_type": "stream",
     "text": [
      "[4. 4. 3. ... 5. 4. 3.]\n",
      "Test MSE: 1.0153\n"
     ]
    }
   ],
   "source": [
    "\n",
    "test_sequence = [process_sequence(d) for d in review_test]\n",
    "test_rating = [d['stars'] for d in review_test]\n",
    "\n",
    "test_mse = ngram_model.evaluate(test_sequence,test_rating)\n",
    "print(f\"Test MSE: {test_mse:.4f}\")\n"
   ]
  },
  {
   "cell_type": "code",
   "execution_count": 60,
   "metadata": {},
   "outputs": [
    {
     "name": "stdout",
     "output_type": "stream",
     "text": [
      "[4.6568294 3.1819577 2.8258011 ... 3.7358954 4.024618  2.1635447]\n",
      "Validation MSE: 0.8920\n"
     ]
    }
   ],
   "source": [
    "#bigram\n",
    "# Train and Evaluate\n",
    "ngram_model = NGramRatingModel(n=2, alpha=0.7)\n",
    "ngram_model.train(train_sequences, train_ratings)\n",
    "\n",
    "# # Train Ridge Regressor\n",
    "# features, targets = ngram_model._extract_features_and_targets(train_sequences, train_ratings)\n",
    "# ngram_model.regressor.fit(features, targets)\n",
    "\n",
    "# Validation and Test\n",
    "val_mse = ngram_model.evaluate(val_sequences, val_ratings)\n",
    "\n",
    "print(f\"Validation MSE: {val_mse:.4f}\")"
   ]
  },
  {
   "cell_type": "code",
   "execution_count": 66,
   "metadata": {},
   "outputs": [
    {
     "name": "stdout",
     "output_type": "stream",
     "text": [
      "[4. 4. 3. ... 5. 4. 3.]\n",
      "Test MSE: 1.0153\n"
     ]
    }
   ],
   "source": [
    "# bigram with regularization of 0.7\n",
    "# test_sequence = [process_sequence(d) for d in review_test]\n",
    "# test_rating = [d['stars'] for d in review_test]\n",
    "\n",
    "test_mse = ngram_model.evaluate(test_sequence,test_rating)\n",
    "print(f\"Test MSE: {test_mse:.4f}\")\n"
   ]
  },
  {
   "cell_type": "code",
   "execution_count": 69,
   "metadata": {},
   "outputs": [
    {
     "name": "stdout",
     "output_type": "stream",
     "text": [
      "[5. 3. 3. ... 4. 4. 2.]\n",
      "Validation MSE: 0.9680\n",
      "[4. 4. 3. ... 5. 4. 3.]\n",
      "Test MSE: 0.9954\n"
     ]
    }
   ],
   "source": [
    "#bigram\n",
    "# Train and Evaluate\n",
    "ngram_model = NGramRatingModel(n=2, alpha=1.0)\n",
    "ngram_model.train(train_sequences, train_ratings)\n",
    "\n",
    "# # Train Ridge Regressor\n",
    "# features, targets = ngram_model._extract_features_and_targets(train_sequences, train_ratings)\n",
    "# ngram_model.regressor.fit(features, targets)\n",
    "\n",
    "# Validation and Test\n",
    "val_mse = ngram_model.evaluate(val_sequences, val_ratings)\n",
    "\n",
    "print(f\"Validation MSE: {val_mse:.4f}\")\n",
    "test_mse = ngram_model.evaluate(test_sequence,test_rating)\n",
    "print(f\"Test MSE: {test_mse:.4f}\")"
   ]
  },
  {
   "cell_type": "code",
   "execution_count": 71,
   "metadata": {},
   "outputs": [
    {
     "data": {
      "image/png": "[encoded data removed]",
      "text/plain": [
       "<Figure size 640x480 with 1 Axes>"
      ]
     },
     "metadata": {},
     "output_type": "display_data"
    }
   ],
   "source": [
    "import numpy as np\n",
    "import matplotlib.pyplot as plt\n",
    "\n",
    "# Extract coefficients and bigram labels\n",
    "feature_coefficients = ngram_model.regressor.coef_\n",
    "bigrams = list(ngram_model.ngram_to_idx.keys())\n",
    "\n",
    "# Get the top 10 most impactful bigrams (positive and negative)\n",
    "top_indices = np.argsort(np.abs(feature_coefficients))[-10:]\n",
    "top_bigrams = [str(bigrams[i]) for i in top_indices]  # Convert bigrams to strings\n",
    "top_coefficients = feature_coefficients[top_indices]\n",
    "\n",
    "# Create a horizontal bar plot\n",
    "plt.barh(top_bigrams, top_coefficients, color='blue')\n",
    "plt.xlabel('Coefficient Value')\n",
    "plt.title('Top 10 Important Bigrams')\n",
    "plt.show()\n"
   ]
  },
  {
   "cell_type": "code",
   "execution_count": 73,
   "metadata": {},
   "outputs": [
    {
     "data": {
      "image/png": "[encoded data removed]",
      "text/plain": [
       "<Figure size 640x480 with 1 Axes>"
      ]
     },
     "metadata": {},
     "output_type": "display_data"
    }
   ],
   "source": [
    "import numpy as np\n",
    "import matplotlib.pyplot as plt\n",
    "\n",
    "# Extract coefficients and bigram labels\n",
    "feature_coefficients = ngram_model.regressor.coef_\n",
    "bigrams = list(ngram_model.ngram_to_idx.keys())\n",
    "\n",
    "# Get indices of top 10 positive coefficients\n",
    "positive_indices = np.argsort(feature_coefficients)[-10:]  # Largest positive coefficients\n",
    "top_positive_bigrams = [str(bigrams[i]) for i in positive_indices]  # Convert bigrams to strings\n",
    "top_positive_coefficients = feature_coefficients[positive_indices]\n",
    "\n",
    "# Create a horizontal bar plot\n",
    "plt.barh(top_positive_bigrams, top_positive_coefficients, color='red')\n",
    "plt.xlabel('Coefficient Value')\n",
    "plt.title('Top 10 Positive Bigrams')\n",
    "plt.show()\n"
   ]
  },
  {
   "cell_type": "code",
   "execution_count": 67,
   "metadata": {},
   "outputs": [
    {
     "name": "stdout",
     "output_type": "stream",
     "text": [
      "[4. 4. 4. ... 4. 5. 3.]\n",
      "Validation MSE: 0.9860\n"
     ]
    }
   ],
   "source": [
    "trigram_model = NGramRatingModel(n=3, alpha=0.7)\n",
    "trigram_model.train(train_sequences, train_ratings)\n",
    "\n",
    "# # Train Ridge Regressor\n",
    "# features, targets = ngram_model._extract_features_and_targets(train_sequences, train_ratings)\n",
    "# ngram_model.regressor.fit(features, targets)\n",
    "\n",
    "# Validation and Test\n",
    "val_mse = trigram_model.evaluate(val_sequences, val_ratings)\n",
    "\n",
    "print(f\"Validation MSE: {val_mse:.4f}\")"
   ]
  },
  {
   "cell_type": "code",
   "execution_count": null,
   "metadata": {},
   "outputs": [],
   "source": []
  },
  {
   "cell_type": "code",
   "execution_count": 56,
   "metadata": {},
   "outputs": [
    {
     "name": "stdout",
     "output_type": "stream",
     "text": [
      "45982\n",
      "16000\n"
     ]
    }
   ],
   "source": [
    "print(len(review_test))\n",
    "print(len(train_sequences))"
   ]
  },
  {
   "cell_type": "code",
   "execution_count": 18,
   "metadata": {},
   "outputs": [
    {
     "name": "stdout",
     "output_type": "stream",
     "text": [
      "1.490833578439748\n"
     ]
    }
   ],
   "source": [
    "#baseline\n",
    "train_average_stars = sum(d[\"stars\"] for d in review_train) / len(review_train)\n",
    "mse = sum((d[\"stars\"] - train_average_stars) ** 2 for d in review_test) / len(review_test)\n",
    "print(mse)"
   ]
  },
  {
   "cell_type": "code",
   "execution_count": null,
   "metadata": {},
   "outputs": [],
   "source": []
  }
 ],
 "metadata": {
  "kernelspec": {
   "display_name": "base",
   "language": "python",
   "name": "python3"
  },
  "language_info": {
   "codemirror_mode": {
    "name": "ipython",
    "version": 3
   },
   "file_extension": ".py",
   "mimetype": "text/x-python",
   "name": "python",
   "nbconvert_exporter": "python",
   "pygments_lexer": "ipython3",
   "version": "3.11.7"
  }
 },
 "nbformat": 4,
 "nbformat_minor": 2
}
