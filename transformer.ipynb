{
 "cells": [
  {
   "cell_type": "code",
   "execution_count": 31,
   "metadata": {},
   "outputs": [],
   "source": [
    "import torch.nn as nn\n",
    "import torch.nn.functional as F\n",
    "import torch\n",
    "from nltk.tokenize import word_tokenize\n",
    "import json\n",
    "# from datasets import Dataset\n",
    "from torch.utils.data import DataLoader\n",
    "from torch.nn import CrossEntropyLoss\n",
    "from torch.nn.utils.rnn import pad_sequence\n",
    "from torch.utils.data import Dataset\n",
    "\n",
    "\n",
    "\n"
   ]
  },
  {
   "cell_type": "code",
   "execution_count": 71,
   "metadata": {},
   "outputs": [],
   "source": [
    "batch_size = 256\n",
    "block_size = 200 \n",
    "learning_rate = 1e-3  \n",
    "n_embd = 64  \n",
    "# n_embd = 206808\n",
    "n_head = 2  \n",
    "n_layer = 4  \n",
    "dropout = 0.5\n",
    "device = torch.device(\"cuda\" if torch.cuda.is_available() else \"cpu\")\n",
    "n_input = 64  \n",
    "n_hidden = 100\n",
    "n_output = 1\n",
    "n_epoch = 20"
   ]
  },
  {
   "cell_type": "code",
   "execution_count": 4,
   "metadata": {},
   "outputs": [],
   "source": [
    "class Head(nn.Module):\n",
    "    def __init__(self, head_size):\n",
    "        super().__init__()\n",
    "        self.key = nn.Linear(n_embd, head_size, bias = False)\n",
    "        self.query = nn.Linear(n_embd, head_size, bias = False)\n",
    "        self.value = nn.Linear(n_embd, head_size, bias = False)\n",
    "        self.dropout = nn.Dropout(dropout)\n",
    "\n",
    "\n",
    "    \n",
    "    def forward(self, x):\n",
    "        B, T, C = x.shape\n",
    "        \n",
    "        k = self.key(x)\n",
    "        q = self.query(x)\n",
    "        \n",
    "        wei = q @ k.transpose(-2,-1) * C**-0.5 \n",
    "        wei_soft = F.softmax(wei, dim=-1) \n",
    "        wei = self.dropout(wei_soft)\n",
    "        v = self.value(x) \n",
    "        output = wei @ v\n",
    "        return output, wei_soft"
   ]
  },
  {
   "cell_type": "code",
   "execution_count": 5,
   "metadata": {},
   "outputs": [],
   "source": [
    "class MultipleHeadAttention(nn.Module):\n",
    "    def __init__(self, num_heads, head_size):\n",
    "        super().__init__()\n",
    "        self.heads = nn.ModuleList([Head(head_size) for _ in range(num_heads)])\n",
    "        self.proj = nn.Linear(n_embd, n_embd)\n",
    "        self.dropout = nn.Dropout(dropout)\n",
    "        \n",
    "    def forward(self, x):\n",
    "        head_outputs, attention_maps = [], []\n",
    "        for head in self.heads:\n",
    "            out, attn_map = head(x)\n",
    "            head_outputs.append(out)\n",
    "            attention_maps.append(attn_map[0])\n",
    "        multi_head_output = torch.cat(head_outputs, dim=-1)\n",
    "        output = self.dropout(self.proj(multi_head_output))\n",
    "        return output, attention_maps"
   ]
  },
  {
   "cell_type": "code",
   "execution_count": 6,
   "metadata": {},
   "outputs": [],
   "source": [
    "class FeedForward(nn.Module):\n",
    "    def __init__(self):\n",
    "        super().__init__()\n",
    "        self.net = nn.Sequential(\n",
    "            nn.Linear(n_embd, 4 * n_embd),\n",
    "            nn.ReLU(),\n",
    "            nn.Linear(4 * n_embd, n_embd),\n",
    "            nn.Dropout(dropout),\n",
    "        )\n",
    "    def forward(self, x):\n",
    "        return self.net(x)"
   ]
  },
  {
   "cell_type": "code",
   "execution_count": 7,
   "metadata": {},
   "outputs": [],
   "source": [
    "class Block(nn.Module):\n",
    "    def __init__(self, n_embd, n_head):\n",
    "        super().__init__()\n",
    "        head_size = n_embd // n_head\n",
    "        self.sa = MultipleHeadAttention(n_head, head_size)\n",
    "        self.ffwd = FeedForward()\n",
    "        self.ln1 = nn.LayerNorm(n_embd)\n",
    "        self.ln2 = nn.LayerNorm(n_embd)\n",
    "    def forward(self, x):\n",
    "        x_out, attentionMaps = self.sa(self.ln1(x))\n",
    "        x = x + x_out\n",
    "        x = x + self.ffwd(self.ln2(x))\n",
    "        return x, attentionMaps"
   ]
  },
  {
   "cell_type": "code",
   "execution_count": 8,
   "metadata": {},
   "outputs": [],
   "source": [
    "class EncoderModel(nn.Module):\n",
    "    def __init__(self, vocab_size):\n",
    "        super().__init__()\n",
    "        self.token_embedding_table = nn.Embedding(vocab_size, n_embd)\n",
    "        self.position_embedding_table = nn.Embedding(block_size, n_embd)\n",
    "        self.blocks = nn.Sequential(*[Block(n_embd, n_head) for _ in range(n_layer)])\n",
    "        self.ln_f = nn.LayerNorm(n_embd)\n",
    "\n",
    "\n",
    "\n",
    "        \n",
    "    def forward(self, idx):\n",
    "        B, T = idx.shape        # T: sequence length\n",
    "        tok_emb = self.token_embedding_table(idx)\n",
    "        pos_emb = self.position_embedding_table(torch.arange(T, device=device).unsqueeze(0).expand(B,T)) # (T,C)\n",
    "        \n",
    "        x = tok_emb + pos_emb\n",
    "        # x = self.blocks(x)\n",
    "        # x = self.ln_f(x)\n",
    "        attention_maps = []\n",
    "\n",
    "        \n",
    "        for block in self.blocks:\n",
    "            x, attention_map = block(x)\n",
    "            attention_maps.append(attention_map)\n",
    "        \n",
    "        x = self.ln_f(x)\n",
    "        \n",
    "        # x = torch.mean(x, dim=1) \n",
    "        x = x.mean(dim=1)\n",
    "        \n",
    "        return x, attention_maps"
   ]
  },
  {
   "cell_type": "code",
   "execution_count": 9,
   "metadata": {},
   "outputs": [],
   "source": [
    "class FeedForwardClassifier(nn.Module):\n",
    "    def __init__(self, vocab_size):\n",
    "        super().__init__()\n",
    "        self.encoder = EncoderModel(vocab_size)\n",
    "        self.classifier = nn.Sequential(\n",
    "            nn.Linear(n_embd, n_hidden),\n",
    "            nn.ReLU(),\n",
    "            nn.Linear(n_hidden, n_output),\n",
    "        )\n",
    "    def forward(self, idx):\n",
    "        x, attention_maps = self.encoder(idx)\n",
    "        logits = self.classifier(x)\n",
    "        return logits, attention_maps\n",
    "        \n",
    "        \n",
    "        "
   ]
  },
  {
   "cell_type": "code",
   "execution_count": 10,
   "metadata": {},
   "outputs": [],
   "source": [
    "class Tokenier:\n",
    "    def __init__(self, text):\n",
    "        self.vocab = set()\n",
    "        self.sti = {}\n",
    "        self.its = {}\n",
    "        self.build(text)\n",
    "    \n",
    "    def build(self, text):\n",
    "        tokens = word_tokenize(text)\n",
    "        self.vocab = set(tokens)\n",
    "        self.vocab_size = len(self.vocab) + 2\n",
    "        self.sti = {word: i for i, word in enumerate(self.vocab, start=2)}\n",
    "        self.sti['<pad>'] = 0\n",
    "        self.sti['<unk>'] = 1\n",
    "        self.itos = {i: word for word, i in self.sti.items()}\n",
    "    \n",
    "    def encode(self, text):\n",
    "        tokens = word_tokenize(text)\n",
    "        return [self.sti.get(word, self.sti['<unk>']) for word in tokens]\n",
    "    \n",
    "\n",
    "    "
   ]
  },
  {
   "cell_type": "code",
   "execution_count": 11,
   "metadata": {},
   "outputs": [],
   "source": [
    "review_train = []\n",
    "with open(\"./dataset/review_train.json\", \"r\") as file:\n",
    "    for line in file:\n",
    "        review_train.append(json.loads(line))\n",
    "\n",
    "review_test = []\n",
    "with open(\"./dataset/review_test.json\", \"r\") as file:\n",
    "    for line in file:\n",
    "        review_test.append(json.loads(line))\n",
    "\n",
    "rating_train = [review['stars'] for review in review_train]\n",
    "rating_test = [review['stars'] for review in review_test]"
   ]
  },
  {
   "cell_type": "code",
   "execution_count": 12,
   "metadata": {},
   "outputs": [],
   "source": [
    "all_text = \" \".join([review['text'] for review in review_train])\n",
    "tokenizer = Tokenier(all_text)"
   ]
  },
  {
   "cell_type": "code",
   "execution_count": 51,
   "metadata": {},
   "outputs": [],
   "source": [
    "class myDataset(Dataset):\n",
    "    def __init__(self, tokenizer, reviews, labels):\n",
    "        self.tokenizer = tokenizer\n",
    "        self.samples = []\n",
    "        for i in range(len(reviews)):\n",
    "            self.samples.append((int(labels[i]), reviews[i]['text']))\n",
    "    \n",
    "    def __len__(self):\n",
    "        return len(self.samples)\n",
    "    \n",
    "    def __getitem__(self, index):\n",
    "        label, text = self.samples[index]\n",
    "        input_ids = torch.tensor(self.tokenizer.encode(text), dtype=torch.long)\n",
    "        label_tensor = torch.tensor(label, dtype=torch.float)\n",
    "        \n",
    "        return input_ids, label_tensor"
   ]
  },
  {
   "cell_type": "code",
   "execution_count": 72,
   "metadata": {},
   "outputs": [],
   "source": [
    "dataset_train = myDataset(tokenizer, review_train, rating_train)\n",
    "dataset_test = myDataset(tokenizer, review_test, rating_test)"
   ]
  },
  {
   "cell_type": "code",
   "execution_count": 73,
   "metadata": {},
   "outputs": [],
   "source": [
    "def collate_batch(batch):\n",
    "    data, labels = zip(*batch) \n",
    "    \n",
    "    pad_seqs = pad_sequence(data, batch_first=True, padding_value=0)\n",
    "    pad_seqs = pad_seqs[:, :block_size]\n",
    "    \n",
    "    pad_seqs = F.pad(pad_seqs, (0, max(0, block_size - pad_seqs.shape[1])), \"constant\", 0)\n",
    "    \n",
    "    labels = torch.stack(labels)  \n",
    "    \n",
    "    return pad_seqs, labels\n",
    "    \n",
    "\n",
    "    \n",
    "    \n",
    "   "
   ]
  },
  {
   "cell_type": "code",
   "execution_count": 74,
   "metadata": {},
   "outputs": [],
   "source": [
    "train_loader = DataLoader(dataset_train, batch_size=batch_size, collate_fn=collate_batch, shuffle=True)\n",
    "test_loader = DataLoader(dataset_test, batch_size=batch_size, collate_fn=collate_batch, shuffle=False)"
   ]
  },
  {
   "cell_type": "code",
   "execution_count": 75,
   "metadata": {},
   "outputs": [],
   "source": [
    "model = FeedForwardClassifier(tokenizer.vocab_size).to(device)\n",
    "optimizer = torch.optim.AdamW(model.parameters(), lr=learning_rate)\n",
    "criterion = nn.MSELoss()"
   ]
  },
  {
   "cell_type": "code",
   "execution_count": 76,
   "metadata": {},
   "outputs": [],
   "source": [
    "def compute_classifier_accuracy(classifier, data_loader):\n",
    "    classifier.eval()\n",
    "    total_correct = 0\n",
    "    total_samples = 0\n",
    "    with torch.no_grad():\n",
    "        for X, Y in data_loader:\n",
    "            X, Y = X.to(device), Y.to(device)\n",
    "            outputs, atten_maps = classifier(X)\n",
    "            _, predicted = torch.max(outputs.data, 1)\n",
    "            total_correct += (predicted == Y).sum().item()\n",
    "            total_samples += Y.size(0)\n",
    "        accuracy = (100 * total_correct / total_samples)\n",
    "        classifier.train()\n",
    "        return accuracy"
   ]
  },
  {
   "cell_type": "code",
   "execution_count": null,
   "metadata": {},
   "outputs": [
    {
     "name": "stderr",
     "output_type": "stream",
     "text": [
      "/Library/Frameworks/Python.framework/Versions/3.7/lib/python3.7/site-packages/torch/nn/modules/loss.py:536: UserWarning: Using a target size (torch.Size([256])) that is different to the input size (torch.Size([256, 1])). This will likely lead to incorrect results due to broadcasting. Please ensure they have the same size.\n",
      "  return F.mse_loss(input, target, reduction=self.reduction)\n"
     ]
    }
   ],
   "source": [
    "accuracies_train = []\n",
    "accuracies_test = []\n",
    "\n",
    "for epoch in range(n_epoch):\n",
    "    for xb, yb in train_loader:\n",
    "        xb, yb = xb.to(device), yb.to(device)    \n",
    "        output, _ = model(xb)\n",
    "        # print(output.shape)\n",
    "        # print(yb.shape)\n",
    "        loss = criterion(output, yb)\n",
    "                \n",
    "        optimizer.zero_grad()\n",
    "        loss.backward()\n",
    "        optimizer.step()\n",
    "        # print(f\"Epoch {epoch+1}/{n_epoch}, Loss: {loss.item()}\")\n",
    "        \n",
    "    accuracies_train.append(compute_classifier_accuracy(model, train_loader))\n",
    "    accuracies_test.append(compute_classifier_accuracy(model, train_loader))\n",
    "    print(f\"Epoch {epoch+1}/{n_epoch}, Loss: {loss.item()}\")\n",
    "    print(f\"Epoch {epoch+1}, train_accuracy: {compute_classifier_accuracy(model, train_loader)}\")\n",
    "    print(f\"Epoch {epoch+1}, test_accuracy: {compute_classifier_accuracy(model, test_loader)}\")\n"
   ]
  }
 ],
 "metadata": {
  "kernelspec": {
   "display_name": "Python 3",
   "language": "python",
   "name": "python3"
  },
  "language_info": {
   "codemirror_mode": {
    "name": "ipython",
    "version": 3
   },
   "file_extension": ".py",
   "mimetype": "text/x-python",
   "name": "python",
   "nbconvert_exporter": "python",
   "pygments_lexer": "ipython3",
   "version": "3.7.7"
  }
 },
 "nbformat": 4,
 "nbformat_minor": 2
}
