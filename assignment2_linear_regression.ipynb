{
 "cells": [
  {
   "cell_type": "code",
   "execution_count": 4,
   "metadata": {},
   "outputs": [],
   "source": [
    "import json\n",
    "from sklearn.linear_model import LinearRegression\n",
    "from sklearn.model_selection import train_test_split\n",
    "from sklearn.preprocessing import OneHotEncoder\n",
    "from sklearn.compose import ColumnTransformer\n",
    "from sklearn.pipeline import Pipeline\n",
    "from sklearn.metrics import mean_squared_error\n",
    "import numpy as np"
   ]
  },
  {
   "cell_type": "code",
   "execution_count": 2,
   "metadata": {},
   "outputs": [],
   "source": [
    "business = []\n",
    "with open(\"../dataset/business_all.json\", \"r\") as file:\n",
    "    for line in file:\n",
    "        business.append(json.loads(line))\n",
    "\n",
    "checkin = []\n",
    "with open(\"../dataset/checkin_all.json\", \"r\") as file:\n",
    "    for line in file:\n",
    "        checkin.append(json.loads(line))\n",
    "\n",
    "train_review = []\n",
    "with open(\"../dataset/review_train.json\", \"r\") as file:\n",
    "    for line in file:\n",
    "        train_review.append(json.loads(line))\n",
    "\n",
    "test_review = []\n",
    "with open(\"../dataset/review_test.json\", \"r\") as file:\n",
    "    for line in file:\n",
    "        test_review.append(json.loads(line))\n",
    "\n",
    "user = []\n",
    "with open(\"../dataset/user_all.json\", \"r\") as file:\n",
    "    for line in file:\n",
    "        user.append(json.loads(line))\n",
    "        "
   ]
  },
  {
   "cell_type": "code",
   "execution_count": 3,
   "metadata": {},
   "outputs": [
    {
     "name": "stdout",
     "output_type": "stream",
     "text": [
      "1.490833578439748\n"
     ]
    }
   ],
   "source": [
    "### baseline\n",
    "train_average_stars = sum(d[\"stars\"] for d in train_review) / len(train_review)\n",
    "mse = sum((d[\"stars\"] - train_average_stars) ** 2 for d in test_review) / len(test_review)\n",
    "print(mse)"
   ]
  },
  {
   "cell_type": "code",
   "execution_count": null,
   "metadata": {},
   "outputs": [],
   "source": [
    "def prepare_data(business_data, review_data, user_data):\n",
    "    # Create a list of features and targets\n",
    "    X = []  # Features\n",
    "    y = []  # Target (stars)\n",
    "\n",
    "    # Iterate over the business data and combine the necessary information\n",
    "    for business in business_data:\n",
    "        # Get relevant business data\n",
    "        business_id = business['business_id']\n",
    "        review_count = business['review_count']\n",
    "        business_stars = business['stars']\n",
    "        latitude = business['latitude']\n",
    "        longitude = business['longitude']\n",
    "        categories = business['categories']\n",
    "        \n",
    "        # Aggregate review votes (assuming each business has multiple reviews)\n",
    "        total_funny = total_useful = total_cool = 0\n",
    "        for review in review_data:\n",
    "            if review['business_id'] == business_id:\n",
    "                total_funny += review['votes']['funny']\n",
    "                total_useful += review['votes']['useful']\n",
    "                total_cool += review['votes']['cool']\n",
    "\n",
    "        # Get user data (assuming each review has a user_id)\n",
    "        user_avg_stars = 0\n",
    "        user_review_count = 0\n",
    "        for review in review_data:\n",
    "            if review['business_id'] == business_id:\n",
    "                user_id = review['user_id']\n",
    "                for user in user_data:\n",
    "                    if user['user_id'] == user_id:\n",
    "                        user_avg_stars = user['average_stars']\n",
    "                        user_review_count = user['review_count']\n",
    "        \n",
    "        # Prepare feature vector\n",
    "        feature_vector = [\n",
    "            review_count,\n",
    "            total_funny,\n",
    "            total_useful,\n",
    "            total_cool,\n",
    "            user_avg_stars,\n",
    "            user_review_count,\n",
    "            latitude,\n",
    "            longitude\n",
    "        ]\n",
    "        X.append(feature_vector)\n",
    "        y.append(business_stars)\n",
    "    \n",
    "    return np.array(X), np.array(y)"
   ]
  }
 ],
 "metadata": {
  "kernelspec": {
   "display_name": "Python 3",
   "language": "python",
   "name": "python3"
  },
  "language_info": {
   "codemirror_mode": {
    "name": "ipython",
    "version": 3
   },
   "file_extension": ".py",
   "mimetype": "text/x-python",
   "name": "python",
   "nbconvert_exporter": "python",
   "pygments_lexer": "ipython3",
   "version": "3.10.8"
  }
 },
 "nbformat": 4,
 "nbformat_minor": 2
}
