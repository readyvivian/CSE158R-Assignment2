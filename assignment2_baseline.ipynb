{
 "cells": [
  {
   "cell_type": "code",
   "execution_count": 1,
   "metadata": {},
   "outputs": [],
   "source": [
    "from sklearn.model_selection import train_test_split\n",
    "import json"
   ]
  },
  {
   "cell_type": "code",
   "execution_count": 2,
   "metadata": {},
   "outputs": [],
   "source": [
    "business = []\n",
    "with open(\"yelp_training_set_business.json\", \"r\") as file:\n",
    "    for line in file:\n",
    "        business.append(json.loads(line))\n",
    "\n",
    "checkin = []\n",
    "with open(\"yelp_training_set_checkin.json\", \"r\") as file:\n",
    "    for line in file:\n",
    "        checkin.append(json.loads(line))\n",
    "\n",
    "review = []\n",
    "with open(\"yelp_training_set_review.json\", \"r\") as file:\n",
    "    for line in file:\n",
    "        review.append(json.loads(line))\n",
    "\n",
    "user = []\n",
    "with open(\"yelp_training_set_user.json\", \"r\") as file:\n",
    "    for line in file:\n",
    "        user.append(json.loads(line))\n",
    "        "
   ]
  },
  {
   "cell_type": "code",
   "execution_count": 3,
   "metadata": {},
   "outputs": [
    {
     "name": "stdout",
     "output_type": "stream",
     "text": [
      "train review dataset size: 183925, test review dataset size: 45982\n"
     ]
    }
   ],
   "source": [
    "### train test split\n",
    "train_review, test_review = train_test_split(review, test_size=0.2, random_state=26)\n",
    "print(f\"train review dataset size: {len(train_review)}, test review dataset size: {len(test_review)}\")"
   ]
  },
  {
   "cell_type": "code",
   "execution_count": 4,
   "metadata": {},
   "outputs": [
    {
     "name": "stdout",
     "output_type": "stream",
     "text": [
      "1.490833578439748\n"
     ]
    }
   ],
   "source": [
    "### baseline\n",
    "train_average_stars = sum(d[\"stars\"] for d in train_review) / len(train_review)\n",
    "mse = sum((d[\"stars\"] - train_average_stars) ** 2 for d in test_review) / len(test_review)\n",
    "print(mse)\n"
   ]
  }
 ],
 "metadata": {
  "kernelspec": {
   "display_name": "Python 3",
   "language": "python",
   "name": "python3"
  },
  "language_info": {
   "codemirror_mode": {
    "name": "ipython",
    "version": 3
   },
   "file_extension": ".py",
   "mimetype": "text/x-python",
   "name": "python",
   "nbconvert_exporter": "python",
   "pygments_lexer": "ipython3",
   "version": "3.10.8"
  }
 },
 "nbformat": 4,
 "nbformat_minor": 2
}
