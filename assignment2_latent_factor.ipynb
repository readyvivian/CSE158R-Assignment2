{
 "cells": [
  {
   "cell_type": "code",
   "execution_count": 1,
   "metadata": {},
   "outputs": [],
   "source": [
    "from sklearn.model_selection import train_test_split\n",
    "import json\n",
    "from surprise import SVD, Reader, Dataset, accuracy, SVDpp, NMF, CoClustering, SlopeOne, KNNBasic, KNNWithMeans, KNNWithZScore, KNNBaseline\n",
    "import pandas as pd"
   ]
  },
  {
   "cell_type": "code",
   "execution_count": 2,
   "metadata": {},
   "outputs": [],
   "source": [
    "business = []\n",
    "with open(\"../dataset/business_all.json\", \"r\") as file:\n",
    "    for line in file:\n",
    "        business.append(json.loads(line))\n",
    "\n",
    "checkin = []\n",
    "with open(\"../dataset/checkin_all.json\", \"r\") as file:\n",
    "    for line in file:\n",
    "        checkin.append(json.loads(line))\n",
    "\n",
    "train_review = []\n",
    "with open(\"../dataset/review_train.json\", \"r\") as file:\n",
    "    for line in file:\n",
    "        train_review.append(json.loads(line))\n",
    "\n",
    "test_review = []\n",
    "with open(\"../dataset/review_test.json\", \"r\") as file:\n",
    "    for line in file:\n",
    "        test_review.append(json.loads(line))\n",
    "\n",
    "user = []\n",
    "with open(\"../dataset/user_all.json\", \"r\") as file:\n",
    "    for line in file:\n",
    "        user.append(json.loads(line))\n",
    "        "
   ]
  },
  {
   "cell_type": "code",
   "execution_count": 10,
   "metadata": {},
   "outputs": [
    {
     "data": {
      "text/plain": [
       "183925"
      ]
     },
     "execution_count": 10,
     "metadata": {},
     "output_type": "execute_result"
    }
   ],
   "source": [
    "len(train_review)"
   ]
  },
  {
   "cell_type": "code",
   "execution_count": 11,
   "metadata": {},
   "outputs": [
    {
     "data": {
      "text/plain": [
       "45982"
      ]
     },
     "execution_count": 11,
     "metadata": {},
     "output_type": "execute_result"
    }
   ],
   "source": [
    "len(test_review)"
   ]
  },
  {
   "cell_type": "code",
   "execution_count": 3,
   "metadata": {},
   "outputs": [],
   "source": [
    "train_stars = []\n",
    "valid_stars = []\n",
    "for d in train_review[:147140]:\n",
    "    train_stars.append((d[\"user_id\"], d[\"business_id\"], int(d[\"stars\"])))\n",
    "for d in train_review[147140:]:\n",
    "    valid_stars.append((d[\"user_id\"], d[\"business_id\"], int(d[\"stars\"])))\n",
    "\n",
    "test_stars = []\n",
    "for d in test_review:\n",
    "    test_stars.append((d[\"user_id\"], d[\"business_id\"], int(d[\"stars\"])))"
   ]
  },
  {
   "cell_type": "code",
   "execution_count": 4,
   "metadata": {},
   "outputs": [],
   "source": [
    "df_train = pd.DataFrame(train_stars, columns=['user', 'item', 'rating'])\n",
    "df_valid = pd.DataFrame(valid_stars, columns=['user', 'item', 'rating'])\n",
    "df_test = pd.DataFrame(test_stars, columns=['user', 'item', 'rating'])\n",
    "reader = Reader(rating_scale=(1, 5))\n",
    "train_data = Dataset.load_from_df(df_train[['user', 'item', 'rating']], reader)\n",
    "valid_data = Dataset.load_from_df(df_valid[['user', 'item', 'rating']], reader)\n",
    "test_data = Dataset.load_from_df(df_test[['user', 'item', 'rating']], reader)\n",
    "trainset = train_data.build_full_trainset()\n",
    "validset = valid_data.build_full_trainset()\n",
    "testset = test_data.build_full_trainset()"
   ]
  },
  {
   "cell_type": "code",
   "execution_count": 6,
   "metadata": {},
   "outputs": [
    {
     "name": "stdout",
     "output_type": "stream",
     "text": [
      "MSE: 1.2547\n",
      "Valid MSE: 1.2547242021499463\n"
     ]
    }
   ],
   "source": [
    "# SVD\n",
    "\n",
    "model_SVD = SVD(\n",
    "    random_state=26,\n",
    "    n_factors=2,\n",
    "    n_epochs=28,\n",
    "    init_mean=0.03,\n",
    "    init_std_dev=0.03,\n",
    "    lr_all=0.005,\n",
    "    reg_all=0.12,\n",
    ")\n",
    "model_SVD.fit(trainset)\n",
    "predictions = model_SVD.test(validset.build_testset())\n",
    "valid_mse = accuracy.mse(predictions)\n",
    "print(f\"Valid MSE: {valid_mse}\")"
   ]
  },
  {
   "cell_type": "code",
   "execution_count": 7,
   "metadata": {},
   "outputs": [
    {
     "name": "stdout",
     "output_type": "stream",
     "text": [
      "MSE: 1.2592\n",
      "Test MSE: 1.259187322875312\n"
     ]
    }
   ],
   "source": [
    "predictions = model_SVD.test(testset.build_testset())\n",
    "test_mse = accuracy.mse(predictions)\n",
    "print(f\"Test MSE: {test_mse}\")"
   ]
  },
  {
   "cell_type": "code",
   "execution_count": 13,
   "metadata": {},
   "outputs": [
    {
     "name": "stdout",
     "output_type": "stream",
     "text": [
      "MSE: 1.2549\n",
      "Valid MSE: 1.2549134720016684\n"
     ]
    }
   ],
   "source": [
    "# SVDpp\n",
    "\n",
    "model_SVDpp = SVDpp(\n",
    "    random_state=26,\n",
    "    n_factors=2,\n",
    "    n_epochs=21,\n",
    "    lr_all=0.007,\n",
    "    reg_all=0.13,\n",
    ")\n",
    "model_SVDpp.fit(trainset)\n",
    "predictions = model_SVDpp.test(validset.build_testset())\n",
    "valid_mse = accuracy.mse(predictions)\n",
    "print(f\"Valid MSE: {valid_mse}\")"
   ]
  },
  {
   "cell_type": "code",
   "execution_count": 14,
   "metadata": {},
   "outputs": [
    {
     "name": "stdout",
     "output_type": "stream",
     "text": [
      "MSE: 1.2590\n",
      "Test MSE: 1.2590122759734572\n"
     ]
    }
   ],
   "source": [
    "predictions = model_SVDpp.test(testset.build_testset())\n",
    "test_mse = accuracy.mse(predictions)\n",
    "print(f\"Test MSE: {test_mse}\")"
   ]
  },
  {
   "cell_type": "code",
   "execution_count": 11,
   "metadata": {},
   "outputs": [
    {
     "name": "stdout",
     "output_type": "stream",
     "text": [
      "User biases:\n",
      "User 0: -0.6247914639124159\n",
      "User 1: 0.13909115485849916\n",
      "User 2: 0.14793959195487555\n",
      "User 3: -0.7417433378790887\n",
      "User 4: -0.007035942887825003\n",
      "\n",
      "Item biases:\n",
      "Item 0: -0.45972516989030804\n",
      "Item 1: -0.0629449714345564\n",
      "Item 2: 0.7463388813468614\n",
      "Item 3: -0.7625228058100991\n",
      "Item 4: 0.22178405237977497\n"
     ]
    }
   ],
   "source": [
    "# Accessing the user and item biases\n",
    "user_biases = model_SVDpp.bu\n",
    "item_biases = model_SVDpp.bi\n",
    "\n",
    "# Print first few user and item biases\n",
    "print(\"User biases:\")\n",
    "for i in range(5):  # printing first 5 users\n",
    "    print(f\"User {i}: {user_biases[i]}\")\n",
    "    \n",
    "print(\"\\nItem biases:\")\n",
    "for i in range(5):  # printing first 5 items\n",
    "    print(f\"Item {i}: {item_biases[i]}\")"
   ]
  },
  {
   "cell_type": "code",
   "execution_count": 15,
   "metadata": {},
   "outputs": [
    {
     "name": "stdout",
     "output_type": "stream",
     "text": [
      "\n",
      "User latent factors:\n",
      "User 0: [ 0.01225726 -0.24325175]\n",
      "User 1: [-0.02153202  0.08309185]\n",
      "User 2: [-0.10290619  0.00197935]\n",
      "User 3: [-0.06932579 -0.1581388 ]\n",
      "User 4: [-0.05020979  0.04131654]\n",
      "\n",
      "Item latent factors:\n",
      "Item 0: [0.09126886 0.16681987]\n",
      "Item 1: [-0.06693861 -0.08751041]\n",
      "Item 2: [ 0.03861003 -0.05302889]\n",
      "Item 3: [-0.01715328  0.16288534]\n",
      "Item 4: [-0.0025778   0.08058914]\n"
     ]
    }
   ],
   "source": [
    "# Accessing the latent factor matrices\n",
    "user_latent_factors = model_SVDpp.pu\n",
    "item_latent_factors = model_SVDpp.qi\n",
    "\n",
    "# Print first few latent factors for a user and an item\n",
    "print(\"\\nUser latent factors:\")\n",
    "for i in range(5):  # printing first 5 users\n",
    "    print(f\"User {i}: {user_latent_factors[i]}\")\n",
    "\n",
    "print(\"\\nItem latent factors:\")\n",
    "for i in range(5):  # printing first 5 items\n",
    "    print(f\"Item {i}: {item_latent_factors[i]}\")"
   ]
  },
  {
   "cell_type": "code",
   "execution_count": null,
   "metadata": {},
   "outputs": [],
   "source": []
  },
  {
   "cell_type": "code",
   "execution_count": 156,
   "metadata": {},
   "outputs": [
    {
     "name": "stdout",
     "output_type": "stream",
     "text": [
      "MSE: 1.5599\n",
      "Valid MSE: 1.5598727354018092\n"
     ]
    }
   ],
   "source": [
    "# NMF\n",
    "\n",
    "model_NMF = NMF(\n",
    "    random_state=26,\n",
    "    n_factors=30,\n",
    "    n_epochs=50,\n",
    "    init_low=0.05,\n",
    "    init_high=0.79\n",
    ")\n",
    "model_NMF.fit(trainset)\n",
    "predictions = model_NMF.test(validset.build_testset())\n",
    "valid_mse = accuracy.mse(predictions)\n",
    "print(f\"Valid MSE: {valid_mse}\")"
   ]
  },
  {
   "cell_type": "code",
   "execution_count": 157,
   "metadata": {},
   "outputs": [
    {
     "name": "stdout",
     "output_type": "stream",
     "text": [
      "MSE: 1.5596\n",
      "Test MSE: 1.5595668417370865\n"
     ]
    }
   ],
   "source": [
    "predictions = model_NMF.test(testset.build_testset())\n",
    "test_mse = accuracy.mse(predictions)\n",
    "print(f\"Test MSE: {test_mse}\")"
   ]
  },
  {
   "cell_type": "code",
   "execution_count": 160,
   "metadata": {},
   "outputs": [],
   "source": [
    "# SlopeOne bad"
   ]
  },
  {
   "cell_type": "code",
   "execution_count": 170,
   "metadata": {},
   "outputs": [],
   "source": [
    "# CoClustering bad"
   ]
  },
  {
   "cell_type": "code",
   "execution_count": null,
   "metadata": {},
   "outputs": [
    {
     "name": "stdout",
     "output_type": "stream",
     "text": [
      "Computing the msd similarity matrix...\n",
      "Done computing similarity matrix.\n",
      "MSE: 1.5079\n",
      "Valid MSE: 1.5079319252469106\n"
     ]
    }
   ],
   "source": [
    "# KNNBasic\n",
    "\n",
    "model_KNNBasic = KNNBasic()\n",
    "model_KNNBasic.fit(trainset)\n",
    "predictions = model_KNNBasic.test(validset.build_testset())\n",
    "valid_mse = accuracy.mse(predictions)\n",
    "print(f\"Valid MSE: {valid_mse}\")"
   ]
  },
  {
   "cell_type": "code",
   "execution_count": 175,
   "metadata": {},
   "outputs": [
    {
     "name": "stdout",
     "output_type": "stream",
     "text": [
      "MSE: 1.5260\n",
      "Test MSE: 1.526035115539857\n"
     ]
    }
   ],
   "source": [
    "predictions = model_KNNBasic .test(testset.build_testset())\n",
    "test_mse = accuracy.mse(predictions)\n",
    "print(f\"Test MSE: {test_mse}\")"
   ]
  },
  {
   "cell_type": "code",
   "execution_count": 178,
   "metadata": {},
   "outputs": [
    {
     "name": "stdout",
     "output_type": "stream",
     "text": [
      "Computing the msd similarity matrix...\n",
      "Done computing similarity matrix.\n",
      "MSE: 1.6005\n",
      "Valid MSE: 1.6004530213477965\n"
     ]
    }
   ],
   "source": [
    "# KNNWithMeans\n",
    "\n",
    "model_KNNWithMeans = KNNWithMeans()\n",
    "model_KNNWithMeans.fit(trainset)\n",
    "predictions = model_KNNWithMeans.test(validset.build_testset())\n",
    "valid_mse = accuracy.mse(predictions)\n",
    "print(f\"Valid MSE: {valid_mse}\")"
   ]
  },
  {
   "cell_type": "code",
   "execution_count": 179,
   "metadata": {},
   "outputs": [
    {
     "name": "stdout",
     "output_type": "stream",
     "text": [
      "Computing the msd similarity matrix...\n",
      "Done computing similarity matrix.\n",
      "MSE: 1.6114\n",
      "Valid MSE: 1.6114392412185545\n"
     ]
    }
   ],
   "source": [
    "# KNNWithZScore\n",
    "\n",
    "model_KNNWithZScore = KNNWithZScore()\n",
    "model_KNNWithZScore.fit(trainset)\n",
    "predictions = model_KNNWithZScore.test(validset.build_testset())\n",
    "valid_mse = accuracy.mse(predictions)\n",
    "print(f\"Valid MSE: {valid_mse}\")"
   ]
  },
  {
   "cell_type": "code",
   "execution_count": 9,
   "metadata": {},
   "outputs": [
    {
     "name": "stdout",
     "output_type": "stream",
     "text": [
      "Estimating biases using als...\n",
      "Computing the msd similarity matrix...\n",
      "Done computing similarity matrix.\n",
      "MSE: 1.3824\n",
      "Valid MSE: 1.382401204098977\n"
     ]
    }
   ],
   "source": [
    "# KNNBaseline\n",
    "\n",
    "model_KNNBaseline = KNNBaseline(\n",
    "    k=50\n",
    ")\n",
    "model_KNNBaseline.fit(trainset)\n",
    "predictions = model_KNNBaseline.test(validset.build_testset())\n",
    "valid_mse = accuracy.mse(predictions)\n",
    "print(f\"Valid MSE: {valid_mse}\")"
   ]
  }
 ],
 "metadata": {
  "kernelspec": {
   "display_name": "Python 3",
   "language": "python",
   "name": "python3"
  },
  "language_info": {
   "codemirror_mode": {
    "name": "ipython",
    "version": 3
   },
   "file_extension": ".py",
   "mimetype": "text/x-python",
   "name": "python",
   "nbconvert_exporter": "python",
   "pygments_lexer": "ipython3",
   "version": "3.10.8"
  }
 },
 "nbformat": 4,
 "nbformat_minor": 2
}
