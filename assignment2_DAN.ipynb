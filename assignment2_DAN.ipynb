{
 "cells": [
  {
   "cell_type": "code",
   "execution_count": null,
   "metadata": {},
   "outputs": [],
   "source": [
    "import json\n",
    "import matplotlib.pyplot as plt\n",
    "from collections import Counter\n",
    "import statistics\n",
    "from datetime import datetime\n",
    "from collections import defaultdict\n",
    "from torchtext.vocab import GloVe\n",
    "from sklearn.feature_extraction.text import CountVectorizer\n",
    "import re\n",
    "\n",
    "import torch\n",
    "from torch import nn\n",
    "import torch.nn.functional as F\n",
    "from sklearn.feature_extraction.text import CountVectorizer\n",
    "\n",
    "from collections import Counter\n",
    "\n",
    "\n",
    "from sklearn.model_selection import train_test_split\n",
    "\n",
    "\n",
    "\n",
    "from nltk.corpus import stopwords\n",
    "from nltk.stem import WordNetLemmatizer\n",
    "import nltk"
   ]
  },
  {
   "cell_type": "code",
   "execution_count": null,
   "metadata": {},
   "outputs": [],
   "source": [
    "review_train = []\n",
    "with open(\"../dataset/review_train.json\", \"r\") as file:\n",
    "    for line in file:\n",
    "        review_train.append(json.loads(line))\n",
    "\n",
    "review_test = []\n",
    "with open(\"../dataset/review_test.json\", \"r\") as file:\n",
    "    for line in file:\n",
    "        review_test.append(json.loads(line))\n"
   ]
  },
  {
   "cell_type": "code",
   "execution_count": null,
   "metadata": {},
   "outputs": [],
   "source": [
    "class NN2DAN(nn.Module):\n",
    "    def __init__(self, input_size, hidden_size):\n",
    "        super().__init__()\n",
    "        self.embedding = read_word_embeddings(\"data/glove.6B.300d-relativized.txt\").get_initialized_embedding_layer()\n",
    "        self.fc1 = nn.Linear(300, hidden_size)\n",
    "        self.fc2 = nn.Linear(hidden_size, 2)\n",
    "        self.log_softmax = nn.LogSoftmax(dim=1)\n",
    "            \n",
    "        \n",
    "    def forward(self, x):\n",
    "        x = self.embedding(x)\n",
    "        mask = (x != 0).float()\n",
    "        x = torch.sum(x, dim=1) / torch.sum(mask, dim=1)\n",
    "        x = F.relu(self.fc1(x))\n",
    "        x = self.fc2(x)\n",
    "        x = self.log_softmax(x)\n",
    "        return x"
   ]
  },
  {
   "cell_type": "code",
   "execution_count": null,
   "metadata": {},
   "outputs": [],
   "source": [
    "nltk.download('stopwords')\n",
    "nltk.download('wordnet')\n",
    "\n",
    "stop_words = set(stopwords.words('english'))\n",
    "lemmatizer = WordNetLemmatizer()\n",
    "\n",
    "def preprocess_review_text(review_text):\n",
    "    review_text = review_text.lower()\n",
    "    review_text = re.sub(r'\\W+', ' ', review_text)\n",
    "    words = [word for word in review_text.split() if word not in stop_words]\n",
    "    processed_words = [lemmatizer.lemmatize(word, pos='v') for word in words]\n",
    "    return processed_words"
   ]
  },
  {
   "cell_type": "code",
   "execution_count": null,
   "metadata": {},
   "outputs": [],
   "source": [
    "review_text_train = [\n",
    "    preprocess_review_text(review['text']) for review in review_train\n",
    "]\n",
    "\n",
    "review_text_test = [\n",
    "    preprocess_review_text(review['text']) for review in review_test\n",
    "]"
   ]
  },
  {
   "cell_type": "code",
   "execution_count": null,
   "metadata": {},
   "outputs": [],
   "source": [
    "rating_train = [review['stars'] for review in review_train]\n",
    "rating_test = [review['stars'] for review in review_test]"
   ]
  },
  {
   "cell_type": "code",
   "execution_count": null,
   "metadata": {},
   "outputs": [],
   "source": [
    "class NN2RDAN(nn.Module):\n",
    "    def __init__(self, input_size, hidden_size):\n",
    "        super().__init__()\n",
    "        self.embedding = torch.nn.Embedding(14923, 300)\n",
    "        \n",
    "        self.fc1 = nn.Linear(300, hidden_size)\n",
    "        self.fc2 = nn.Linear(hidden_size, 2)\n",
    "        self.log_softmax = nn.LogSoftmax(dim=1)\n",
    "            \n",
    "    def forward(self, x):\n",
    "        x = self.embedding(x)\n",
    "        mask = (x != 0).float()\n",
    "        x = torch.sum(x, dim=1) / torch.sum(mask, dim=1)\n",
    "        x = F.relu(self.fc1(x))\n",
    "        x = self.fc2(x)\n",
    "        x = self.log_softmax(x)\n",
    "        return x"
   ]
  }
 ],
 "metadata": {
  "kernelspec": {
   "display_name": "Python 3",
   "language": "python",
   "name": "python3"
  },
  "language_info": {
   "name": "python",
   "version": "3.7.7"
  }
 },
 "nbformat": 4,
 "nbformat_minor": 2
}
